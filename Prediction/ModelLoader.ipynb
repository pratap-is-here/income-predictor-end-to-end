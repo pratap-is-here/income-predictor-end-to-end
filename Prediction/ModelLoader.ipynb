{
 "cells": [
  {
   "cell_type": "code",
   "execution_count": 4,
   "metadata": {},
   "outputs": [
    {
     "name": "stdout",
     "output_type": "stream",
     "text": [
      "1\n"
     ]
    }
   ],
   "source": [
    "import joblib\n",
    "import pandas as pd\n",
    "import numpy as np\n",
    "import pickle\n",
    "    \n",
    "    \n",
    "def ValuePredictor(to_predict_list):\n",
    "    to_predict = np.array(to_predict_list).reshape(1,12)\n",
    "    loaded_model = pickle.load(open(\"NNmodel/model1.pkl\",\"rb\"))\n",
    "    result = loaded_model.predict(to_predict)\n",
    "    return result[0]\n",
    "\n",
    "\n",
    "example_list=[44,3,15,10,1,6,0,2,1,7688,0,40]\n",
    "print(ValuePredictor(example_list))"
   ]
  },
  {
   "cell_type": "code",
   "execution_count": null,
   "metadata": {},
   "outputs": [],
   "source": []
  }
 ],
 "metadata": {
  "kernelspec": {
   "display_name": "Python 3",
   "language": "python",
   "name": "python3"
  }
 },
 "nbformat": 4,
 "nbformat_minor": 2
}
